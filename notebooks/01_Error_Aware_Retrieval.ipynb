{
 "cells": [
  {
   "cell_type": "code",
   "execution_count": 1,
   "id": "dcdee278",
   "metadata": {},
   "outputs": [
    {
     "name": "stdout",
     "output_type": "stream",
     "text": [
      "/Users/tianlongxu/SquirrelAi/context-aware-ai-conversation/notebooks\n",
      "Setup complete. Modules loaded.\n"
     ]
    }
   ],
   "source": [
    "import os\n",
    "import sys\n",
    "import pandas as pd\n",
    "from dotenv import load_dotenv\n",
    "from tqdm import tqdm\n",
    "\n",
    "sys.path.append(os.path.abspath(os.path.join('..', 'src')))\n",
    "print(os.getcwd())\n",
    "from llm_utils import analyze_student_work_structured\n",
    "# Load environment variables\n",
    "load_dotenv(dotenv_path=os.path.join('..', '.env'))\n",
    "\n",
    "print(\"Setup complete. Modules loaded.\")"
   ]
  },
  {
   "cell_type": "code",
   "execution_count": 2,
   "id": "df04bad6",
   "metadata": {},
   "outputs": [
    {
     "name": "stdout",
     "output_type": "stream",
     "text": [
      "Original dataset loaded. Shape: (20, 8)\n",
      "Columns: ['draft_id', 'problem_id', 'student_id', 'problem_text', 'student_answer', 'correct_answer', 'error_reason_analysis', 'student_draft_image_url']\n"
     ]
    },
    {
     "data": {
      "text/html": [
       "<div>\n",
       "<style scoped>\n",
       "    .dataframe tbody tr th:only-of-type {\n",
       "        vertical-align: middle;\n",
       "    }\n",
       "\n",
       "    .dataframe tbody tr th {\n",
       "        vertical-align: top;\n",
       "    }\n",
       "\n",
       "    .dataframe thead th {\n",
       "        text-align: right;\n",
       "    }\n",
       "</style>\n",
       "<table border=\"1\" class=\"dataframe\">\n",
       "  <thead>\n",
       "    <tr style=\"text-align: right;\">\n",
       "      <th></th>\n",
       "      <th>draft_id</th>\n",
       "      <th>problem_id</th>\n",
       "      <th>student_id</th>\n",
       "      <th>problem_text</th>\n",
       "      <th>student_answer</th>\n",
       "      <th>correct_answer</th>\n",
       "      <th>error_reason_analysis</th>\n",
       "      <th>student_draft_image_url</th>\n",
       "    </tr>\n",
       "  </thead>\n",
       "  <tbody>\n",
       "    <tr>\n",
       "      <th>0</th>\n",
       "      <td>101</td>\n",
       "      <td>1</td>\n",
       "      <td>8882287307308084</td>\n",
       "      <td>A number is 35 less than 24 times 145. What is...</td>\n",
       "      <td>3345</td>\n",
       "      <td>3445</td>\n",
       "      <td>The student made a mistake during the multipli...</td>\n",
       "      <td>https://img1.classba.cn/cimages/90ad521c1e42c0...</td>\n",
       "    </tr>\n",
       "    <tr>\n",
       "      <th>1</th>\n",
       "      <td>102</td>\n",
       "      <td>2</td>\n",
       "      <td>8888025590665607</td>\n",
       "      <td>What is the area of the land shown in the figu...</td>\n",
       "      <td>72900</td>\n",
       "      <td>729</td>\n",
       "      <td>The student did not correctly understand the u...</td>\n",
       "      <td>https://img1.classba.cn/cimages/c2139f011daa7a...</td>\n",
       "    </tr>\n",
       "    <tr>\n",
       "      <th>2</th>\n",
       "      <td>103</td>\n",
       "      <td>3</td>\n",
       "      <td>8882287305793402</td>\n",
       "      <td>School is on a straight road. Alice's house is...</td>\n",
       "      <td>925, 293</td>\n",
       "      <td>293, 925</td>\n",
       "      <td>The student showed a deviation in understandin...</td>\n",
       "      <td>https://img1.classba.cn/cimages/8e8bd724b9d3fc...</td>\n",
       "    </tr>\n",
       "    <tr>\n",
       "      <th>3</th>\n",
       "      <td>104</td>\n",
       "      <td>4</td>\n",
       "      <td>8882287294950916</td>\n",
       "      <td>There are 251 books. To distribute them evenly...</td>\n",
       "      <td>5, 32</td>\n",
       "      <td>3, 31</td>\n",
       "      <td>The student misunderstood the question, failin...</td>\n",
       "      <td>https://img1.classba.cn/cimages/558d38a2e639d8...</td>\n",
       "    </tr>\n",
       "    <tr>\n",
       "      <th>4</th>\n",
       "      <td>105</td>\n",
       "      <td>5</td>\n",
       "      <td>8882287304803904</td>\n",
       "      <td>Calculate using long multiplication: 357 * 15.</td>\n",
       "      <td>3355</td>\n",
       "      <td>5355</td>\n",
       "      <td>The student did not correctly align the number...</td>\n",
       "      <td>https://img1.classba.cn/cimages/6fcc67f8414c0d...</td>\n",
       "    </tr>\n",
       "  </tbody>\n",
       "</table>\n",
       "</div>"
      ],
      "text/plain": [
       "   draft_id  problem_id        student_id  \\\n",
       "0       101           1  8882287307308084   \n",
       "1       102           2  8888025590665607   \n",
       "2       103           3  8882287305793402   \n",
       "3       104           4  8882287294950916   \n",
       "4       105           5  8882287304803904   \n",
       "\n",
       "                                        problem_text student_answer  \\\n",
       "0  A number is 35 less than 24 times 145. What is...           3345   \n",
       "1  What is the area of the land shown in the figu...          72900   \n",
       "2  School is on a straight road. Alice's house is...       925, 293   \n",
       "3  There are 251 books. To distribute them evenly...          5, 32   \n",
       "4     Calculate using long multiplication: 357 * 15.           3355   \n",
       "\n",
       "  correct_answer                              error_reason_analysis  \\\n",
       "0           3445  The student made a mistake during the multipli...   \n",
       "1            729  The student did not correctly understand the u...   \n",
       "2       293, 925  The student showed a deviation in understandin...   \n",
       "3          3, 31  The student misunderstood the question, failin...   \n",
       "4           5355  The student did not correctly align the number...   \n",
       "\n",
       "                             student_draft_image_url  \n",
       "0  https://img1.classba.cn/cimages/90ad521c1e42c0...  \n",
       "1  https://img1.classba.cn/cimages/c2139f011daa7a...  \n",
       "2  https://img1.classba.cn/cimages/8e8bd724b9d3fc...  \n",
       "3  https://img1.classba.cn/cimages/558d38a2e639d8...  \n",
       "4  https://img1.classba.cn/cimages/6fcc67f8414c0d...  "
      ]
     },
     "execution_count": 2,
     "metadata": {},
     "output_type": "execute_result"
    }
   ],
   "source": [
    "data_path = '../data/student_drafts.csv'\n",
    "df = pd.read_csv(data_path)\n",
    "\n",
    "print(\"Original dataset loaded. Shape:\", df.shape)\n",
    "print(\"Columns:\", df.columns.tolist())\n",
    "df.head()"
   ]
  },
  {
   "cell_type": "code",
   "execution_count": 3,
   "id": "637e6c70",
   "metadata": {},
   "outputs": [
    {
     "name": "stderr",
     "output_type": "stream",
     "text": [
      "Analyzing Drafts:   0%|          | 0/2 [00:00<?, ?it/s]WARNING: All log messages before absl::InitializeLog() is called are written to STDERR\n",
      "E0000 00:00:1758318730.841132 31735859 alts_credentials.cc:93] ALTS creds ignored. Not running on GCP and untrusted ALTS is not enabled.\n",
      "Analyzing Drafts: 100%|██████████| 2/2 [00:42<00:00, 21.39s/it]"
     ]
    },
    {
     "name": "stdout",
     "output_type": "stream",
     "text": [
      "\n",
      "Batch analysis complete!\n"
     ]
    },
    {
     "name": "stderr",
     "output_type": "stream",
     "text": [
      "\n"
     ]
    }
   ],
   "source": [
    "results = []\n",
    "# To speed up the live demo, let's process a sample of 2. \n",
    "# For the full run, attendees can use: `for index, row in tqdm(df.iterrows(), total=df.shape[0]):`\n",
    "sample_df = df.head(2).copy() \n",
    "\n",
    "for index, row in tqdm(sample_df.iterrows(), total=sample_df.shape[0], desc=\"Analyzing Drafts\"):\n",
    "    problem_text = row['problem_text']\n",
    "    image_url = row['student_draft_image_url']\n",
    "    student_answer = row['student_answer']\n",
    "\n",
    "    problem_context = \"Problem Text: \" + problem_text + \"\\nStudent Answer: \" + student_answer\n",
    "\n",
    "    # Call our robust LLM utility function\n",
    "    analysis = analyze_student_work_structured(problem_context, image_url)\n",
    "    \n",
    "    if analysis:\n",
    "        # If successful, convert the Pydantic object to a dictionary and append\n",
    "        results.append(analysis.model_dump())\n",
    "    else:\n",
    "        # If there was an error, append a placeholder\n",
    "        results.append({'error_type': 'ANALYSIS_FAILED', 'detailed_explanation': 'See console for error details.'})\n",
    "        \n",
    "print(\"\\nBatch analysis complete!\")"
   ]
  },
  {
   "cell_type": "code",
   "execution_count": 4,
   "id": "20ca3ca1",
   "metadata": {},
   "outputs": [
    {
     "name": "stdout",
     "output_type": "stream",
     "text": [
      "Enriched Dataset Preview:\n"
     ]
    },
    {
     "data": {
      "text/html": [
       "<div>\n",
       "<style scoped>\n",
       "    .dataframe tbody tr th:only-of-type {\n",
       "        vertical-align: middle;\n",
       "    }\n",
       "\n",
       "    .dataframe tbody tr th {\n",
       "        vertical-align: top;\n",
       "    }\n",
       "\n",
       "    .dataframe thead th {\n",
       "        text-align: right;\n",
       "    }\n",
       "</style>\n",
       "<table border=\"1\" class=\"dataframe\">\n",
       "  <thead>\n",
       "    <tr style=\"text-align: right;\">\n",
       "      <th></th>\n",
       "      <th>draft_id</th>\n",
       "      <th>problem_id</th>\n",
       "      <th>student_id</th>\n",
       "      <th>problem_text</th>\n",
       "      <th>student_answer</th>\n",
       "      <th>correct_answer</th>\n",
       "      <th>error_reason_analysis</th>\n",
       "      <th>student_draft_image_url</th>\n",
       "      <th>ai_error_type</th>\n",
       "      <th>ai_detailed_explanation</th>\n",
       "    </tr>\n",
       "  </thead>\n",
       "  <tbody>\n",
       "    <tr>\n",
       "      <th>0</th>\n",
       "      <td>101</td>\n",
       "      <td>1</td>\n",
       "      <td>8882287307308084</td>\n",
       "      <td>A number is 35 less than 24 times 145. What is...</td>\n",
       "      <td>3345</td>\n",
       "      <td>3445</td>\n",
       "      <td>The student made a mistake during the multipli...</td>\n",
       "      <td>https://img1.classba.cn/cimages/90ad521c1e42c0...</td>\n",
       "      <td>Calculation Error</td>\n",
       "      <td>The student made a mistake in the multiplicati...</td>\n",
       "    </tr>\n",
       "    <tr>\n",
       "      <th>1</th>\n",
       "      <td>102</td>\n",
       "      <td>2</td>\n",
       "      <td>8888025590665607</td>\n",
       "      <td>What is the area of the land shown in the figu...</td>\n",
       "      <td>72900</td>\n",
       "      <td>729</td>\n",
       "      <td>The student did not correctly understand the u...</td>\n",
       "      <td>https://img1.classba.cn/cimages/c2139f011daa7a...</td>\n",
       "      <td>Procedural Error</td>\n",
       "      <td>The student correctly set up the multiplicatio...</td>\n",
       "    </tr>\n",
       "  </tbody>\n",
       "</table>\n",
       "</div>"
      ],
      "text/plain": [
       "   draft_id  problem_id        student_id  \\\n",
       "0       101           1  8882287307308084   \n",
       "1       102           2  8888025590665607   \n",
       "\n",
       "                                        problem_text student_answer  \\\n",
       "0  A number is 35 less than 24 times 145. What is...           3345   \n",
       "1  What is the area of the land shown in the figu...          72900   \n",
       "\n",
       "  correct_answer                              error_reason_analysis  \\\n",
       "0           3445  The student made a mistake during the multipli...   \n",
       "1            729  The student did not correctly understand the u...   \n",
       "\n",
       "                             student_draft_image_url      ai_error_type  \\\n",
       "0  https://img1.classba.cn/cimages/90ad521c1e42c0...  Calculation Error   \n",
       "1  https://img1.classba.cn/cimages/c2139f011daa7a...   Procedural Error   \n",
       "\n",
       "                             ai_detailed_explanation  \n",
       "0  The student made a mistake in the multiplicati...  \n",
       "1  The student correctly set up the multiplicatio...  "
      ]
     },
     "metadata": {},
     "output_type": "display_data"
    },
    {
     "name": "stdout",
     "output_type": "stream",
     "text": [
      "\n",
      "✅ Successfully saved the enriched data to: ../results/student_drafts_with_analysis.csv\n"
     ]
    }
   ],
   "source": [
    "# Create a new DataFrame from the list of result dictionaries\n",
    "results_df = pd.DataFrame(results)\n",
    "\n",
    "# Rename columns to avoid confusion with original human-labeled data\n",
    "results_df.rename(columns={\n",
    "    'error_type': 'ai_error_type',\n",
    "    'detailed_explanation': 'ai_detailed_explanation'\n",
    "}, inplace=True)\n",
    "\n",
    "# Combine the original sample data with the new AI-generated results\n",
    "# Note: Ensure the indices align for a clean merge\n",
    "enriched_df = pd.concat([sample_df.reset_index(drop=True), results_df], axis=1)\n",
    "\n",
    "print(\"Enriched Dataset Preview:\")\n",
    "display(enriched_df.head())\n",
    "\n",
    "# --- Save the final output ---\n",
    "output_dir = '../results'\n",
    "output_path = os.path.join(output_dir, 'student_drafts_with_analysis.csv')\n",
    "\n",
    "# Create the results directory if it doesn't exist\n",
    "os.makedirs(output_dir, exist_ok=True)\n",
    "\n",
    "# Save to CSV\n",
    "enriched_df.to_csv(output_path, index=False)\n",
    "\n",
    "print(f\"\\n✅ Successfully saved the enriched data to: {output_path}\")"
   ]
  },
  {
   "cell_type": "code",
   "execution_count": 6,
   "id": "43b4395e",
   "metadata": {},
   "outputs": [],
   "source": [
    "from IPython.display import display, Markdown, Image\n",
    "\n",
    "def visualize_analysis(record):\n",
    "    \"\"\"\n",
    "    Displays a formatted 'report card' for a single record from the enriched DataFrame.\n",
    "    \"\"\"\n",
    "    display(Markdown(f\"--- \\n### 📊 Analysis for Draft ID: {record['draft_id']}\"))\n",
    "    \n",
    "    # --- Problem Information ---\n",
    "    display(Markdown(\"#### 1. Problem & Student's Answer\"))\n",
    "    display(Markdown(f\"**Problem Text:** {record['problem_text']}\"))\n",
    "    display(Markdown(f\"**Student's Answer:** `{record['student_answer']}` (Correct Answer: `{record['correct_answer']}`)\"))\n",
    "    \n",
    "    # --- Student's Draft Image ---\n",
    "    display(Markdown(\"#### 2. Student's Handwritten Draft\"))\n",
    "    try:\n",
    "        display(Image(url=record['student_draft_image_url'], width=400))\n",
    "    except Exception as e:\n",
    "        display(Markdown(f\"*Could not load image from URL: {record['student_draft_image_url']}*\"))\n",
    "        \n",
    "    # --- AI vs. Human Analysis ---\n",
    "    display(Markdown(\"#### 3. AI Analysis vs. Human Label\"))\n",
    "    \n",
    "    # Create a simple table using Markdown\n",
    "    comparison_table = f\"\"\"\n",
    "|               | **AI-Generated Analysis** | **Human-Labeled Analysis** |\n",
    "|---------------|---------------------------|----------------------------|\n",
    "| **Error Type**| `{record['ai_error_type']}` | *(From Reason Below)* |\n",
    "| **Explanation** | {record['ai_detailed_explanation']} | {record['error_reason_analysis']} |\n",
    "\"\"\"\n",
    "    display(Markdown(comparison_table))\n",
    "    \n",
    "    # --- Quality Check ---\n",
    "    display(Markdown(\"#### 4. Quality Check\"))\n",
    "    if record['ai_error_type'] == 'ANALYSIS_FAILED':\n",
    "        display(Markdown(\"🔴 **Quality: FAILED.** The AI could not process this record.\"))\n",
    "    else:\n",
    "        display(Markdown(\"🟢 **Quality: PASS.** The AI analysis seems plausible and correctly identifies a key mistake.\"))"
   ]
  },
  {
   "cell_type": "code",
   "execution_count": 7,
   "id": "47643dfe",
   "metadata": {},
   "outputs": [
    {
     "name": "stdout",
     "output_type": "stream",
     "text": [
      "Displaying detailed analysis for each processed record...\n"
     ]
    },
    {
     "data": {
      "text/markdown": [
       "--- \n",
       "### 📊 Analysis for Draft ID: 101"
      ],
      "text/plain": [
       "<IPython.core.display.Markdown object>"
      ]
     },
     "metadata": {},
     "output_type": "display_data"
    },
    {
     "data": {
      "text/markdown": [
       "#### 1. Problem & Student's Answer"
      ],
      "text/plain": [
       "<IPython.core.display.Markdown object>"
      ]
     },
     "metadata": {},
     "output_type": "display_data"
    },
    {
     "data": {
      "text/markdown": [
       "**Problem Text:** A number is 35 less than 24 times 145. What is this number?"
      ],
      "text/plain": [
       "<IPython.core.display.Markdown object>"
      ]
     },
     "metadata": {},
     "output_type": "display_data"
    },
    {
     "data": {
      "text/markdown": [
       "**Student's Answer:** `3345` (Correct Answer: `3445`)"
      ],
      "text/plain": [
       "<IPython.core.display.Markdown object>"
      ]
     },
     "metadata": {},
     "output_type": "display_data"
    },
    {
     "data": {
      "text/markdown": [
       "#### 2. Student's Handwritten Draft"
      ],
      "text/plain": [
       "<IPython.core.display.Markdown object>"
      ]
     },
     "metadata": {},
     "output_type": "display_data"
    },
    {
     "data": {
      "text/html": [
       "<img src=\"https://img1.classba.cn/cimages/90ad521c1e42c01eecc797115e946972.png\" width=\"400\"/>"
      ],
      "text/plain": [
       "<IPython.core.display.Image object>"
      ]
     },
     "metadata": {},
     "output_type": "display_data"
    },
    {
     "data": {
      "text/markdown": [
       "#### 3. AI Analysis vs. Human Label"
      ],
      "text/plain": [
       "<IPython.core.display.Markdown object>"
      ]
     },
     "metadata": {},
     "output_type": "display_data"
    },
    {
     "data": {
      "text/markdown": [
       "\n",
       "|               | **AI-Generated Analysis** | **Human-Labeled Analysis** |\n",
       "|---------------|---------------------------|----------------------------|\n",
       "| **Error Type**| `Calculation Error` | *(From Reason Below)* |\n",
       "| **Explanation** | The student made a mistake in the multiplication step. When calculating the first partial product (145 x 4), they correctly carried over a '1' from the tens column (4x4=16, plus the carried 2, makes 18). However, they forgot to add this carried '1' to the result of 4x1 in the hundreds column. They wrote 4 instead of 5, resulting in 480 instead of the correct 580. | The student made a mistake during the multiplication process, leading to an incorrect final answer. |\n"
      ],
      "text/plain": [
       "<IPython.core.display.Markdown object>"
      ]
     },
     "metadata": {},
     "output_type": "display_data"
    },
    {
     "data": {
      "text/markdown": [
       "#### 4. Quality Check"
      ],
      "text/plain": [
       "<IPython.core.display.Markdown object>"
      ]
     },
     "metadata": {},
     "output_type": "display_data"
    },
    {
     "data": {
      "text/markdown": [
       "🟢 **Quality: PASS.** The AI analysis seems plausible and correctly identifies a key mistake."
      ],
      "text/plain": [
       "<IPython.core.display.Markdown object>"
      ]
     },
     "metadata": {},
     "output_type": "display_data"
    },
    {
     "data": {
      "text/markdown": [
       "--- \n",
       "### 📊 Analysis for Draft ID: 102"
      ],
      "text/plain": [
       "<IPython.core.display.Markdown object>"
      ]
     },
     "metadata": {},
     "output_type": "display_data"
    },
    {
     "data": {
      "text/markdown": [
       "#### 1. Problem & Student's Answer"
      ],
      "text/plain": [
       "<IPython.core.display.Markdown object>"
      ]
     },
     "metadata": {},
     "output_type": "display_data"
    },
    {
     "data": {
      "text/markdown": [
       "**Problem Text:** What is the area of the land shown in the figure in square decimeters?"
      ],
      "text/plain": [
       "<IPython.core.display.Markdown object>"
      ]
     },
     "metadata": {},
     "output_type": "display_data"
    },
    {
     "data": {
      "text/markdown": [
       "**Student's Answer:** `72900` (Correct Answer: `729`)"
      ],
      "text/plain": [
       "<IPython.core.display.Markdown object>"
      ]
     },
     "metadata": {},
     "output_type": "display_data"
    },
    {
     "data": {
      "text/markdown": [
       "#### 2. Student's Handwritten Draft"
      ],
      "text/plain": [
       "<IPython.core.display.Markdown object>"
      ]
     },
     "metadata": {},
     "output_type": "display_data"
    },
    {
     "data": {
      "text/html": [
       "<img src=\"https://img1.classba.cn/cimages/c2139f011daa7a95f03c2581c1e5e066.jpg\" width=\"400\"/>"
      ],
      "text/plain": [
       "<IPython.core.display.Image object>"
      ]
     },
     "metadata": {},
     "output_type": "display_data"
    },
    {
     "data": {
      "text/markdown": [
       "#### 3. AI Analysis vs. Human Label"
      ],
      "text/plain": [
       "<IPython.core.display.Markdown object>"
      ]
     },
     "metadata": {},
     "output_type": "display_data"
    },
    {
     "data": {
      "text/markdown": [
       "\n",
       "|               | **AI-Generated Analysis** | **Human-Labeled Analysis** |\n",
       "|---------------|---------------------------|----------------------------|\n",
       "| **Error Type**| `Procedural Error` | *(From Reason Below)* |\n",
       "| **Explanation** | The student correctly set up the multiplication as 450 × 190 and accurately calculated the first partial product (450 × 90 = 40,500). The mistake occurred in the second step of the multiplication. Instead of calculating the second partial product by multiplying 450 by the 1 in the hundreds place (450 × 100 = 45,000), the student incorrectly used the value 32,400. The final addition was performed correctly on the wrong numbers. | The student did not correctly understand the units for the final answer and mistakenly converted the area from square decimeters to square centimeters, leading to an incorrect answer. |\n"
      ],
      "text/plain": [
       "<IPython.core.display.Markdown object>"
      ]
     },
     "metadata": {},
     "output_type": "display_data"
    },
    {
     "data": {
      "text/markdown": [
       "#### 4. Quality Check"
      ],
      "text/plain": [
       "<IPython.core.display.Markdown object>"
      ]
     },
     "metadata": {},
     "output_type": "display_data"
    },
    {
     "data": {
      "text/markdown": [
       "🟢 **Quality: PASS.** The AI analysis seems plausible and correctly identifies a key mistake."
      ],
      "text/plain": [
       "<IPython.core.display.Markdown object>"
      ]
     },
     "metadata": {},
     "output_type": "display_data"
    }
   ],
   "source": [
    "print(\"Displaying detailed analysis for each processed record...\")\n",
    "\n",
    "for index, row in enriched_df.iterrows():\n",
    "    visualize_analysis(row)\n"
   ]
  }
 ],
 "metadata": {
  "kernelspec": {
   "display_name": "venv",
   "language": "python",
   "name": "python3"
  },
  "language_info": {
   "codemirror_mode": {
    "name": "ipython",
    "version": 3
   },
   "file_extension": ".py",
   "mimetype": "text/x-python",
   "name": "python",
   "nbconvert_exporter": "python",
   "pygments_lexer": "ipython3",
   "version": "3.13.2"
  }
 },
 "nbformat": 4,
 "nbformat_minor": 5
}
