{
 "cells": [
  {
   "cell_type": "code",
   "execution_count": 5,
   "id": "7fc77e13",
   "metadata": {},
   "outputs": [
    {
     "name": "stdout",
     "output_type": "stream",
     "text": [
      "Setup complete.\n"
     ]
    }
   ],
   "source": [
    "import os\n",
    "import sys\n",
    "import pandas as pd\n",
    "import requests\n",
    "from dotenv import load_dotenv\n",
    "from datetime import datetime\n",
    "import ipywidgets as widgets\n",
    "from IPython.display import display\n",
    "\n",
    "sys.path.append(os.path.abspath(os.path.join('..', 'src')))\n",
    "\n",
    "# Import our updated prompt functions and utilities\n",
    "from prompt_utils import create_context_aware_prompt, create_non_context_aware_prompt\n",
    "from llm_utils import TEXT_MODEL, is_student_rude, log_conversation\n",
    "\n",
    "load_dotenv(dotenv_path=os.path.join('..', '.env'))\n",
    "\n",
    "print(\"Setup complete.\")\n"
   ]
  },
  {
   "cell_type": "code",
   "execution_count": 2,
   "id": "7e230faf",
   "metadata": {},
   "outputs": [
    {
     "name": "stdout",
     "output_type": "stream",
     "text": [
      "Chatbot class updated with text wrapping and better UI handling.\n"
     ]
    }
   ],
   "source": [
    "class Chatbot:\n",
    "    def __init__(self, name: str, system_prompt: str, log_dir: str, draft_id: int):\n",
    "        self.name = name\n",
    "        self.system_prompt = system_prompt\n",
    "        self.history = [{'role': 'user', 'parts': [self.system_prompt]}]\n",
    "        \n",
    "        # Setup logging\n",
    "        log_subdir = os.path.join('../logs', log_dir)\n",
    "        self.log_path = os.path.join(log_subdir, f\"conversation_draft_{draft_id}_{datetime.now().strftime('%Y%m%d_%H%M%S')}.json\")\n",
    "        \n",
    "        # --- UI Component Changes ---\n",
    "        # Use Textarea for the chat log to get automatic text wrapping\n",
    "        self.chat_log = widgets.Textarea(\n",
    "            value=\"\",\n",
    "            layout={'border': '1px solid black', 'height': '300px', 'width': '98%'},\n",
    "            disabled=True # Make it read-only\n",
    "        )\n",
    "        self.input_box = widgets.Text(placeholder='Type here and press Enter...', layout={'width': '99%'})\n",
    "        \n",
    "        # Assemble the UI into a vertical box with a title\n",
    "        self.ui = widgets.VBox([widgets.Label(value=self.name), self.chat_log, self.input_box], layout={'width': '50%'})\n",
    "        \n",
    "        # Link event handler\n",
    "        self.input_box.on_submit(self.handle_send)\n",
    "\n",
    "    def _append_to_log(self, new_text: str):\n",
    "        \"\"\"Helper function to append text to the Textarea widget.\"\"\"\n",
    "        self.chat_log.value += new_text\n",
    "\n",
    "    def start_session(self):\n",
    "        \"\"\"Generates the AI's opening message and displays it.\"\"\"\n",
    "        self._append_to_log(\"Tutor is generating an opening message...\\n\")\n",
    "            \n",
    "        initial_response = TEXT_MODEL.generate_content(self.history)\n",
    "        opening_message = initial_response.text\n",
    "        \n",
    "        self.history.append({'role': 'model', 'parts': [opening_message]})\n",
    "        log_conversation(self.log_path, self.history)\n",
    "        \n",
    "        # Overwrite the \"generating...\" message with the final opening message\n",
    "        self.chat_log.value = f\"Tutor: {opening_message}\\n\"\n",
    "\n",
    "    def handle_send(self, event):\n",
    "        user_message = self.input_box.value\n",
    "        if not user_message:\n",
    "            return\n",
    "\n",
    "        self._append_to_log(f\"\\nYou: {user_message}\\n\")\n",
    "\n",
    "        if is_student_rude(user_message):\n",
    "            rude_response = \"It seems you're frustrated. Let's end our session here for today. Please remember to be respectful.\"\n",
    "            self._append_to_log(f\"\\nTutor: {rude_response}\\n\")\n",
    "            self.input_box.disabled = True\n",
    "            return\n",
    "\n",
    "        self.history.append({'role': 'user', 'parts': [user_message]})\n",
    "        \n",
    "        self._append_to_log(\"\\nTutor is typing...\\n\")\n",
    "        \n",
    "        response = TEXT_MODEL.generate_content(self.history)\n",
    "        ai_response = response.text\n",
    "        \n",
    "        # Overwrite the \"typing...\" message by replacing the last line\n",
    "        lines = self.chat_log.value.strip().split('\\n')\n",
    "        lines[-1] = f\"Tutor: {ai_response}\"\n",
    "        self.chat_log.value = \"\\n\".join(lines) + \"\\n\"\n",
    "\n",
    "        self.history.append({'role': 'model', 'parts': [ai_response]})\n",
    "        log_conversation(self.log_path, self.history)\n",
    "        self.input_box.value = \"\"\n",
    "\n",
    "print(\"Chatbot class updated with text wrapping and better UI handling.\")"
   ]
  },
  {
   "cell_type": "code",
   "execution_count": 6,
   "id": "4664548d",
   "metadata": {},
   "outputs": [
    {
     "name": "stdout",
     "output_type": "stream",
     "text": [
      "--- Problem Context ---\n"
     ]
    },
    {
     "data": {
      "application/vnd.jupyter.widget-view+json": {
       "model_id": "92d960b01dd3444fa336c26a56fc2bf5",
       "version_major": 2,
       "version_minor": 0
      },
      "text/plain": [
       "HTML(value='<b>Problem:</b> A number is 35 less than 24 times 145. What is this number?')"
      ]
     },
     "metadata": {},
     "output_type": "display_data"
    },
    {
     "data": {
      "application/vnd.jupyter.widget-view+json": {
       "model_id": "b8d8040581e6472cb6b2caf021e3e929",
       "version_major": 2,
       "version_minor": 0
      },
      "text/plain": [
       "HTML(value=\"<b>Student's Incorrect Answer:</b> 3345 (Correct: 3445)\")"
      ]
     },
     "metadata": {},
     "output_type": "display_data"
    },
    {
     "data": {
      "application/vnd.jupyter.widget-view+json": {
       "model_id": "0e4b90f6fb2746a0b3d65290a659da8a",
       "version_major": 2,
       "version_minor": 0
      },
      "text/plain": [
       "HTML(value=\"<b>Student's Handwritten Draft:</b>\")"
      ]
     },
     "metadata": {},
     "output_type": "display_data"
    },
    {
     "data": {
      "application/vnd.jupyter.widget-view+json": {
       "model_id": "968f1efb2219466bb2f893fd6b7b9f05",
       "version_major": 2,
       "version_minor": 0
      },
      "text/plain": [
       "Image(value=b'\\x89PNG\\r\\n\\x1a\\n\\x00\\x00\\x00\\rIHDR\\x00\\x00\\x0b@\\x00\\x00\\x06f\\x08\\x02\\x00\\x00\\x00\\xb4\\x0f\\xb2\\xd…"
      ]
     },
     "metadata": {},
     "output_type": "display_data"
    },
    {
     "name": "stdout",
     "output_type": "stream",
     "text": [
      "\n",
      "--- Tutoring Session Started ---\n"
     ]
    },
    {
     "name": "stderr",
     "output_type": "stream",
     "text": [
      "/var/folders/bt/_z83bhz94vzfbl2gms80vwmh0000gn/T/ipykernel_21763/1838196061.py:24: DeprecationWarning: on_submit is deprecated. Instead, set the .continuous_update attribute to False and observe the value changing with: mywidget.observe(callback, 'value').\n",
      "  self.input_box.on_submit(self.handle_send)\n",
      "WARNING: All log messages before absl::InitializeLog() is called are written to STDERR\n",
      "E0000 00:00:1758319855.190364 31753641 alts_credentials.cc:93] ALTS creds ignored. Not running on GCP and untrusted ALTS is not enabled.\n"
     ]
    },
    {
     "data": {
      "application/vnd.jupyter.widget-view+json": {
       "model_id": "3796df4e0bce417c9cf6db90ffdbbfd7",
       "version_major": 2,
       "version_minor": 0
      },
      "text/plain": [
       "HBox(children=(VBox(children=(Label(value='✅ Context-Aware Tutor (Knows Your Mistake)'), Textarea(value=\"Tutor…"
      ]
     },
     "metadata": {},
     "output_type": "display_data"
    },
    {
     "name": "stdout",
     "output_type": "stream",
     "text": [
      "\n",
      "Logs for the left tutor will be in: ../logs/context_aware\n",
      "Logs for the right tutor will be in: ../logs/non_context_aware\n"
     ]
    }
   ],
   "source": [
    "\n",
    "# --- Load the Student Context ---\n",
    "analysis_path = '../results/student_drafts_with_analysis.csv'\n",
    "try:\n",
    "    df_analysis = pd.read_csv(analysis_path)\n",
    "    student_case = df_analysis.iloc[0]\n",
    "    \n",
    "    # --- 1. Display Problem Context AT THE TOP ---\n",
    "    print(\"--- Problem Context ---\")\n",
    "    display(widgets.HTML(f\"<b>Problem:</b> {student_case['problem_text']}\"))\n",
    "    display(widgets.HTML(f\"<b>Student's Incorrect Answer:</b> {student_case['student_answer']} (Correct: {student_case['correct_answer']})\"))\n",
    "    display(widgets.HTML(\"<b>Student's Handwritten Draft:</b>\"))\n",
    "    display(widgets.Image(\n",
    "        value=requests.get(student_case['student_draft_image_url']).content,\n",
    "        format='png',\n",
    "        width=400\n",
    "    ))\n",
    "    print(\"\\n--- Tutoring Session Started ---\")\n",
    "\n",
    "    # --- 2. Create Prompts ---\n",
    "    prompt_aware = create_context_aware_prompt(\n",
    "        error_type=student_case['ai_error_type'],\n",
    "        detailed_explanation=student_case['ai_detailed_explanation']\n",
    "    )\n",
    "    prompt_unaware = create_non_context_aware_prompt(\n",
    "        problem_text=student_case['problem_text']\n",
    "    )\n",
    "    \n",
    "    # --- 3. Instantiate Chatbots ---\n",
    "    bot_aware = Chatbot(\n",
    "        name=\"✅ Context-Aware Tutor (Knows Your Mistake)\",\n",
    "        system_prompt=prompt_aware,\n",
    "        log_dir=\"context_aware\",\n",
    "        draft_id=student_case['draft_id']\n",
    "    )\n",
    "    \n",
    "    bot_unaware = Chatbot(\n",
    "        name=\"❓ Non-Context-Aware Tutor (Doesn't Know Your Mistake)\",\n",
    "        system_prompt=prompt_unaware,\n",
    "        log_dir=\"non_context_aware\",\n",
    "        draft_id=student_case['draft_id']\n",
    "    )\n",
    "    \n",
    "    # --- 4. Start Sessions & Display UI ---\n",
    "    bot_aware.start_session()\n",
    "    bot_unaware.start_session()\n",
    "    \n",
    "    # Use HBox to display the two UIs next to each other\n",
    "    chat_ui = widgets.HBox([bot_aware.ui, bot_unaware.ui])\n",
    "    display(chat_ui)\n",
    "    \n",
    "    print(f\"\\nLogs for the left tutor will be in: {os.path.dirname(bot_aware.log_path)}\")\n",
    "    print(f\"Logs for the right tutor will be in: {os.path.dirname(bot_unaware.log_path)}\")\n",
    "    \n",
    "except FileNotFoundError:\n",
    "    print(f\"Error: Analysis file not found at {analysis_path}. Please run Notebook 01 first.\")\n",
    "except Exception as e:\n",
    "    print(f\"An unexpected error occurred: {e}\")"
   ]
  }
 ],
 "metadata": {
  "kernelspec": {
   "display_name": "venv",
   "language": "python",
   "name": "python3"
  },
  "language_info": {
   "codemirror_mode": {
    "name": "ipython",
    "version": 3
   },
   "file_extension": ".py",
   "mimetype": "text/x-python",
   "name": "python",
   "nbconvert_exporter": "python",
   "pygments_lexer": "ipython3",
   "version": "3.13.2"
  }
 },
 "nbformat": 4,
 "nbformat_minor": 5
}
